{
  "nbformat": 4,
  "nbformat_minor": 0,
  "metadata": {
    "colab": {
      "name": "weirdtargets2020.ipynb",
      "provenance": [],
      "collapsed_sections": [],
      "toc_visible": true,
      "authorship_tag": "ABX9TyM2O+SRZtgLipSX7ZQFlwIq",
      "include_colab_link": true
    },
    "kernelspec": {
      "display_name": "Python 3",
      "name": "python3"
    },
    "accelerator": "GPU"
  },
  "cells": [
    {
      "cell_type": "markdown",
      "metadata": {
        "id": "view-in-github",
        "colab_type": "text"
      },
      "source": [
        "<a href=\"https://colab.research.google.com/github/AlyShmahell/WeirdTargets/blob/master/weirdtargets2020.ipynb\" target=\"_parent\"><img src=\"https://colab.research.google.com/assets/colab-badge.svg\" alt=\"Open In Colab\"/></a>"
      ]
    },
    {
      "cell_type": "markdown",
      "metadata": {
        "id": "m7-LqJsEsxIS"
      },
      "source": [
        "# Imports"
      ]
    },
    {
      "cell_type": "code",
      "metadata": {
        "colab": {
          "base_uri": "https://localhost:8080/",
          "height": 508
        },
        "id": "oZT_SJpk4fwB",
        "outputId": "c9bff788-53f3-4bb9-c835-cbacd0d2f4d0"
      },
      "source": [
        "! pip install ujson==4.0.1 numpy==1.18.5 pandas==1.1.5 tqdm==4.41.1 toolz==0.11.1 statsmodels==0.10.2"
      ],
      "execution_count": 3,
      "outputs": [
        {
          "output_type": "stream",
          "text": [
            "Collecting ujson==4.0.1\n",
            "\u001b[?25l  Downloading https://files.pythonhosted.org/packages/5c/1b/557bcbee62e02fe1c988366533857b5da3cca93081428491d61b339f9f0f/ujson-4.0.1-cp37-cp37m-manylinux1_x86_64.whl (179kB)\n",
            "\u001b[K     |████████████████████████████████| 184kB 8.2MB/s \n",
            "\u001b[?25hCollecting numpy==1.18.5\n",
            "\u001b[?25l  Downloading https://files.pythonhosted.org/packages/d6/c6/58e517e8b1fb192725cfa23c01c2e60e4e6699314ee9684a1c5f5c9b27e1/numpy-1.18.5-cp37-cp37m-manylinux1_x86_64.whl (20.1MB)\n",
            "\u001b[K     |████████████████████████████████| 20.1MB 1.2MB/s \n",
            "\u001b[?25hRequirement already satisfied: pandas==1.1.5 in /usr/local/lib/python3.7/dist-packages (1.1.5)\n",
            "Requirement already satisfied: tqdm==4.41.1 in /usr/local/lib/python3.7/dist-packages (4.41.1)\n",
            "Requirement already satisfied: toolz==0.11.1 in /usr/local/lib/python3.7/dist-packages (0.11.1)\n",
            "Requirement already satisfied: statsmodels==0.10.2 in /usr/local/lib/python3.7/dist-packages (0.10.2)\n",
            "Requirement already satisfied: pytz>=2017.2 in /usr/local/lib/python3.7/dist-packages (from pandas==1.1.5) (2018.9)\n",
            "Requirement already satisfied: python-dateutil>=2.7.3 in /usr/local/lib/python3.7/dist-packages (from pandas==1.1.5) (2.8.1)\n",
            "Requirement already satisfied: patsy>=0.4.0 in /usr/local/lib/python3.7/dist-packages (from statsmodels==0.10.2) (0.5.1)\n",
            "Requirement already satisfied: scipy>=0.18 in /usr/local/lib/python3.7/dist-packages (from statsmodels==0.10.2) (1.4.1)\n",
            "Requirement already satisfied: six>=1.5 in /usr/local/lib/python3.7/dist-packages (from python-dateutil>=2.7.3->pandas==1.1.5) (1.15.0)\n",
            "\u001b[31mERROR: tensorflow 2.4.1 has requirement numpy~=1.19.2, but you'll have numpy 1.18.5 which is incompatible.\u001b[0m\n",
            "\u001b[31mERROR: datascience 0.10.6 has requirement folium==0.2.1, but you'll have folium 0.8.3 which is incompatible.\u001b[0m\n",
            "\u001b[31mERROR: albumentations 0.1.12 has requirement imgaug<0.2.7,>=0.2.5, but you'll have imgaug 0.2.9 which is incompatible.\u001b[0m\n",
            "Installing collected packages: ujson, numpy\n",
            "  Found existing installation: numpy 1.19.5\n",
            "    Uninstalling numpy-1.19.5:\n",
            "      Successfully uninstalled numpy-1.19.5\n",
            "Successfully installed numpy-1.18.5 ujson-4.0.1\n"
          ],
          "name": "stdout"
        },
        {
          "output_type": "display_data",
          "data": {
            "application/vnd.colab-display-data+json": {
              "pip_warning": {
                "packages": [
                  "numpy"
                ]
              }
            }
          },
          "metadata": {
            "tags": []
          }
        }
      ]
    },
    {
      "cell_type": "code",
      "metadata": {
        "id": "KvXS15KXsBCO"
      },
      "source": [
        "import os\n",
        "import gc\n",
        "import sys\n",
        "import ujson\n",
        "import psutil\n",
        "import requests\n",
        "import itertools\n",
        "import scipy\n",
        "import numpy                   as     np\n",
        "import pandas                  as     pd\n",
        "import operator                as     op\n",
        "import matplotlib.pyplot       as     plt\n",
        "import statsmodels.formula.api as     smf\n",
        "from   copy                    import copy\n",
        "from   scipy.stats             import zscore, variation, probplot, pearsonr, shapiro\n",
        "from   tqdm                    import tqdm\n",
        "from   functools               import reduce\n",
        "from   gzip                    import GzipFile\n",
        "from   toolz                   import partition_all\n",
        "from   pathlib                 import Path\n",
        "from   concurrent.futures      import ProcessPoolExecutor\n",
        "from   statsmodels.graphics.gofplots import qqplot\n",
        "from   numba import cuda\n",
        "plt.style.use('ggplot')\n",
        "%matplotlib inline"
      ],
      "execution_count": 17,
      "outputs": []
    },
    {
      "cell_type": "markdown",
      "metadata": {
        "id": "SPh4UBdkspkV"
      },
      "source": [
        "# nCr"
      ]
    },
    {
      "cell_type": "code",
      "metadata": {
        "id": "-NST-Tgdsq3Y"
      },
      "source": [
        "def ncr(n, r):\n",
        "    r     = min(r, n-r)\n",
        "    numer = reduce(op.mul, range(n, n-r, -1), 1)\n",
        "    denom = reduce(op.mul, range(1, r+1), 1)\n",
        "    return  numer / denom"
      ],
      "execution_count": 5,
      "outputs": []
    },
    {
      "cell_type": "markdown",
      "metadata": {
        "id": "C5vVDNyiB6WP"
      },
      "source": [
        "# msuba"
      ]
    },
    {
      "cell_type": "code",
      "metadata": {
        "id": "6QRIe0gJB1T5"
      },
      "source": [
        "def maxsuba(s, t):\n",
        "    mean    = np.mean(s)\n",
        "    std     = np.std(s)\n",
        "    zscores = (s - mean)/std\n",
        "    r       = tick    = 0\n",
        "    for tock, z in enumerate(zscores):\n",
        "        zsum  = np.sum(zscores[tick:tock])\n",
        "        if zsum*std+((tock-tick)*mean) <= t:\n",
        "            r     = tock - tick\n",
        "            tick += (zsum <= 0) * (tock-tick)\n",
        "        print(z, zsum, tick, tock)\n",
        "    return tock - tick"
      ],
      "execution_count": 522,
      "outputs": []
    },
    {
      "cell_type": "code",
      "metadata": {
        "id": "ri1PO0Y8cgfD"
      },
      "source": [
        "def minsuba(chunk_sizes, t_size):\n",
        "    v, f = np.unique(chunk_sizes, return_counts=True)\n",
        "    l    = len(chunk_sizes)\n",
        "    p    = f/l\n",
        "    n    = np.ceil(sum([(t_size*p[i])/(v[i]) for i in range(len(v))]))\n",
        "    return int(n)"
      ],
      "execution_count": 188,
      "outputs": []
    },
    {
      "cell_type": "code",
      "metadata": {
        "id": "QBiiIUebG79V"
      },
      "source": [
        "def maxsuba2(chunk_sizes, t_size):\n",
        "    v, f = np.unique(chunk_sizes, return_counts=True)\n",
        "    l    = len(chunk_sizes)\n",
        "    p    = f/l\n",
        "    print([(t_size*p[i])/(v[i]) for i in range(len(v))])\n",
        "    n    = np.max([(t_size*p[i])/(v[i]) for i in range(len(v))])\n",
        "    return n.round(0).astype(int)"
      ],
      "execution_count": 542,
      "outputs": []
    },
    {
      "cell_type": "code",
      "metadata": {
        "id": "b8zg0hTU40Hr"
      },
      "source": [
        "def testsuba(s, t_size):\n",
        "    def gather(a):\n",
        "        for idx in range(len(a)):\n",
        "            if sum(a[0:idx]) > t_size:\n",
        "                return idx-1\n",
        "        return len(a)-1\n",
        "    def scan(sdx, jdx):\n",
        "        for idx in range(sdx, len(s)):\n",
        "            if sum(s[idx:idx+jdx]) > t_size:\n",
        "                jdx = gather(s[idx:idx+jdx])\n",
        "                sdx = idx - idx % max(jdx, 1)\n",
        "                return scan(sdx, jdx)\n",
        "        return jdx\n",
        "    return scan(0, gather(s))\n"
      ],
      "execution_count": 577,
      "outputs": []
    },
    {
      "cell_type": "code",
      "metadata": {
        "colab": {
          "base_uri": "https://localhost:8080/"
        },
        "id": "85Q45u84N3dw",
        "outputId": "1abf5cc7-e2f0-4ed2-c6ea-55e2a281c254"
      },
      "source": [
        "x = np.array([2,2,2, 2, 2,2,2])\n",
        "#z = zscore(x)\n",
        "print(testsuba(x,14))"
      ],
      "execution_count": 579,
      "outputs": [
        {
          "output_type": "stream",
          "text": [
            "6\n"
          ],
          "name": "stdout"
        }
      ]
    },
    {
      "cell_type": "markdown",
      "metadata": {
        "id": "TqaXhyOFsuZV"
      },
      "source": [
        "# Downloader"
      ]
    },
    {
      "cell_type": "code",
      "metadata": {
        "id": "JIT5D5YksvrY"
      },
      "source": [
        "def downloader(url):\n",
        "    def func(r, path, filename, total_size, block_size):\n",
        "        t          = tqdm(\n",
        "            desc       = f\"downloading {filename}\",\n",
        "            total      = total_size, \n",
        "            unit       = 'iB', \n",
        "            unit_scale = True\n",
        "        )\n",
        "        with open(path/filename, 'wb') as f:\n",
        "            for data in r.iter_content(block_size):\n",
        "                t.update(len(data))\n",
        "                f.write(data)\n",
        "        t.close()\n",
        "        try:\n",
        "            assert not(total_size != 0 and t.n != total_size)\n",
        "        except:\n",
        "            sys.exit(f\"downloaded {t.n}/{total_size}\", flush=True)\n",
        "    r          = requests.get(url, stream=True)\n",
        "    total_size = int(r.headers.get('content-length', 0))\n",
        "    block_size = 1024**2\n",
        "    filename   = url.split('/')[-1]\n",
        "    path       = Path(Path.home())/Path('workspace')\n",
        "    path.mkdir(parents=True, exist_ok=True)\n",
        "    try:\n",
        "        assert Path(path/filename).stat().st_size == total_size\n",
        "        print(f\"{filename} is already downloaded\", flush=True)\n",
        "    except:\n",
        "        func(r, path, filename, total_size, block_size)\n",
        "    filename    = filename.split('.')\n",
        "    (filename, \n",
        "     extension) = \".\".join(filename[:-1]), filename[-1]\n",
        "    return path, filename, extension"
      ],
      "execution_count": 9,
      "outputs": []
    },
    {
      "cell_type": "markdown",
      "metadata": {
        "id": "5ziqnzXKODoa"
      },
      "source": [
        "# Probe"
      ]
    },
    {
      "cell_type": "code",
      "metadata": {
        "id": "qd5Rgb8oOFpj"
      },
      "source": [
        "class Probe:\n",
        "    def __init__(self, url):\n",
        "        (self.path, \n",
        "         self.filename, \n",
        "         self.extension)   = downloader(url)\n",
        "        self.chunk_sizes   = []\n",
        "        with tqdm(desc=f\"Feature Probing\") as tqdmo:\n",
        "            with GzipFile(f\"{self.path}/{self.filename}.{self.extension}\") as f:\n",
        "                for b in f:\n",
        "                    self.chunk_sizes += [33+len(b)]\n",
        "                    tqdmo.update(1)\n",
        "        with open('sizes.json', 'w') as f:\n",
        "            ujson.dump(self.chunk_sizes, f)\n",
        "        self.total_size = sum(self.chunk_sizes)"
      ],
      "execution_count": 10,
      "outputs": []
    },
    {
      "cell_type": "code",
      "metadata": {
        "id": "1IW52eOqwJgz"
      },
      "source": [
        "def digital_unique(data, return_counts=True):\n",
        "    minim = int(np.floor(min(data)))\n",
        "    maxim = int(np.floor(max(data)))\n",
        "    bins = np.linspace(minim, maxim, maxim-minim)\n",
        "    digitized = np.digitize(data, bins, True)\n",
        "    bin_means = np.array([data[digitized == i].mean() for i in range(1, len(bins)+1)])\n",
        "    bin_means = bin_means[np.where(~np.isnan(bin_means))[0]]\n",
        "    v, f = np.unique(digitized, return_counts=True)\n",
        "    v = bin_means\n",
        "    return np.array(v),f"
      ],
      "execution_count": 11,
      "outputs": []
    },
    {
      "cell_type": "code",
      "metadata": {
        "colab": {
          "base_uri": "https://localhost:8080/"
        },
        "id": "2_ysK_t7Ub3Y",
        "outputId": "847bbd11-c24b-408e-b3e1-fd6562573d98"
      },
      "source": [
        "probe = Probe('https://storage.googleapis.com/open-targets-data-releases/17.12/17.12_evidence_data.json.gz')"
      ],
      "execution_count": 12,
      "outputs": [
        {
          "output_type": "stream",
          "text": [
            "downloading 17.12_evidence_data.json.gz: 100%|██████████| 5.43G/5.43G [02:34<00:00, 35.1MiB/s]\n",
            "Feature Probing: 5784597it [02:39, 36163.68it/s]\n"
          ],
          "name": "stderr"
        }
      ]
    },
    {
      "cell_type": "code",
      "metadata": {
        "id": "uxSzt-IGjrpL"
      },
      "source": [
        "def cv(s, t):\n",
        "    return np.sqrt(sum([(x-t)**2 for x in s])/len(s))/t"
      ],
      "execution_count": 13,
      "outputs": []
    },
    {
      "cell_type": "code",
      "metadata": {
        "colab": {
          "base_uri": "https://localhost:8080/"
        },
        "id": "yf_gq7GMLV1X",
        "outputId": "bf18194c-fd1f-413e-82f7-82a33c2bf4b4"
      },
      "source": [
        "print(minsuba(probe.chunk_sizes, int(os.statvfs('/').f_bsize*1024*8)))"
      ],
      "execution_count": 21,
      "outputs": [
        {
          "output_type": "stream",
          "text": [
            "7190\n"
          ],
          "name": "stdout"
        }
      ]
    },
    {
      "cell_type": "code",
      "metadata": {
        "colab": {
          "base_uri": "https://localhost:8080/"
        },
        "id": "tdVSCihyj9SZ",
        "outputId": "737ee541-28a0-40dc-dcc3-00a43ebd5392"
      },
      "source": [
        "print(testsuba(probe.chunk_sizes, int(os.statvfs('/').f_bsize*1024*8)))"
      ],
      "execution_count": 53,
      "outputs": [
        {
          "output_type": "stream",
          "text": [
            "[0.3352311429264072, 0.3352311436725317, 0.3352311448451408, 0.3352311461245287, 0.3352311467642924]\n",
            "5695\n"
          ],
          "name": "stdout"
        }
      ]
    },
    {
      "cell_type": "code",
      "metadata": {
        "id": "uvSxrBp_SNJg"
      },
      "source": [
        "def test(probe, func):\n",
        "    dic      = {'t_size':[], 'mean': [], 'cv': [], 'zscores': [], 'dist': []}\n",
        "    iterable = range(1,14)\n",
        "    with tqdm(desc=f'testing {func.__name__}', iterable=iterable) as tqdmo:\n",
        "        for i in iterable:\n",
        "            t_size = 2**i*1024**2\n",
        "            tqdmo.set_postfix({'t_size': t_size})\n",
        "            n      = func(probe.chunk_sizes, t_size)\n",
        "            dist   = np.array([int(sum(probe.chunk_sizes[j:j+n])) for j in range(0,len(probe.chunk_sizes)-n,n)])\n",
        "            dic['dist']   += [dist/1024**2]\n",
        "            dic['t_size'] += [t_size/1024**2]\n",
        "            dic['mean']   += [np.mean(dist)/1024**2]\n",
        "            dic['cv']     += [{\n",
        "                'size': 2**i,\n",
        "                'cv': cv(dist/1024**2, 2**i)\n",
        "            }]\n",
        "            dic['zscores'] += [digital_unique(zscore(dist/1024**2), return_counts=True)]\n",
        "            tqdmo.update(1)\n",
        "    print(ujson.dumps({\n",
        "        'pearson': pearsonr(dic['t_size'], dic['mean']),\n",
        "        'cv': dic['cv']\n",
        "\n",
        "    }, indent=4))\n",
        "    fig, axs = plt.subplots(6,3)\n",
        "    fig.set_size_inches(20, 12)\n",
        "    fig.tight_layout(pad=4.0)\n",
        "    axs[0][0].scatter(dic['t_size'], dic['t_size'], label='t_size')\n",
        "    axs[0][0].plot(dic['t_size'],   dic['mean'],   label='mean')\n",
        "    axs[0][0].set_title(\"Correlation\")\n",
        "    axs[0][0].set(xlabel=\"Expected\", ylabel=\"Result\")\n",
        "    axs[0][0].legend()\n",
        "    for i in range(3,len(dic['zscores'])+3):\n",
        "            axs[i//3][i%3].stem(dic['zscores'][i-3][0], dic['zscores'][i-3][1])\n",
        "            axs[i//3][i%3].set_title(str(2**(i-2))+\"MB\")\n",
        "            axs[i//3][i%3].set(xlabel=\"Z-Score\", ylabel=\"Frequency\")\n",
        "            maxim = max(np.abs(dic['zscores'][i-3][0].astype(int)))\n",
        "            axs[i//3][i%3].set_xticks(range(-maxim-1, maxim+2),      minor=True)\n",
        "    plt.show()"
      ],
      "execution_count": 12,
      "outputs": []
    },
    {
      "cell_type": "code",
      "metadata": {
        "colab": {
          "base_uri": "https://localhost:8080/",
          "height": 1000
        },
        "id": "DfrrzyFGUhpe",
        "outputId": "3d2c8f0a-6bd8-42bc-8f40-af3af106401d"
      },
      "source": [
        "test(probe, minsuba)"
      ],
      "execution_count": 13,
      "outputs": [
        {
          "output_type": "stream",
          "text": [
            "testing minsuba:   0%|          | 0/13 [00:00<?, ?it/s, t_size=2.1e+6]/usr/local/lib/python3.7/dist-packages/ipykernel_launcher.py:6: RuntimeWarning: Mean of empty slice.\n",
            "  \n",
            "/usr/local/lib/python3.7/dist-packages/numpy/core/_methods.py:170: RuntimeWarning: invalid value encountered in double_scalars\n",
            "  rcount = _count_reduce_items(arr, axis)\n",
            "testing minsuba: 100%|██████████| 13/13 [00:11<00:00,  1.17it/s, t_size=8.59e+9]\n"
          ],
          "name": "stderr"
        },
        {
          "output_type": "stream",
          "text": [
            "{\n",
            "    \"pearson\": [\n",
            "        0.9999998783785435,\n",
            "        9.876608270010636e-38\n",
            "    ],\n",
            "    \"cv\": [\n",
            "        {\n",
            "            \"size\": 2,\n",
            "            \"cv\": 0.2536994273633718\n",
            "        },\n",
            "        {\n",
            "            \"size\": 4,\n",
            "            \"cv\": 0.24499999200049186\n",
            "        },\n",
            "        {\n",
            "            \"size\": 8,\n",
            "            \"cv\": 0.2355631896321616\n",
            "        },\n",
            "        {\n",
            "            \"size\": 16,\n",
            "            \"cv\": 0.22910758960917413\n",
            "        },\n",
            "        {\n",
            "            \"size\": 32,\n",
            "            \"cv\": 0.22246911601278477\n",
            "        },\n",
            "        {\n",
            "            \"size\": 64,\n",
            "            \"cv\": 0.21355487371177678\n",
            "        },\n",
            "        {\n",
            "            \"size\": 128,\n",
            "            \"cv\": 0.20256794673069375\n",
            "        },\n",
            "        {\n",
            "            \"size\": 256,\n",
            "            \"cv\": 0.197966959304109\n",
            "        },\n",
            "        {\n",
            "            \"size\": 512,\n",
            "            \"cv\": 0.17962156837275506\n",
            "        },\n",
            "        {\n",
            "            \"size\": 1024,\n",
            "            \"cv\": 0.16624198198640872\n",
            "        },\n",
            "        {\n",
            "            \"size\": 2048,\n",
            "            \"cv\": 0.15742348949037926\n",
            "        },\n",
            "        {\n",
            "            \"size\": 4096,\n",
            "            \"cv\": 0.1489580162479492\n",
            "        },\n",
            "        {\n",
            "            \"size\": 8192,\n",
            "            \"cv\": 0.112212529977824\n",
            "        }\n",
            "    ]\n",
            "}\n"
          ],
          "name": "stdout"
        },
        {
          "output_type": "stream",
          "text": [
            "/usr/local/lib/python3.7/dist-packages/ipykernel_launcher.py:33: UserWarning: In Matplotlib 3.3 individual lines on a stem plot will be added as a LineCollection instead of individual lines. This significantly improves the performance of a stem plot. To remove this warning and switch to the new behaviour, set the \"use_line_collection\" keyword argument to True.\n",
            "/usr/local/lib/python3.7/dist-packages/ipykernel_launcher.py:33: UserWarning: In Matplotlib 3.3 individual lines on a stem plot will be added as a LineCollection instead of individual lines. This significantly improves the performance of a stem plot. To remove this warning and switch to the new behaviour, set the \"use_line_collection\" keyword argument to True.\n",
            "/usr/local/lib/python3.7/dist-packages/ipykernel_launcher.py:33: UserWarning: In Matplotlib 3.3 individual lines on a stem plot will be added as a LineCollection instead of individual lines. This significantly improves the performance of a stem plot. To remove this warning and switch to the new behaviour, set the \"use_line_collection\" keyword argument to True.\n",
            "/usr/local/lib/python3.7/dist-packages/ipykernel_launcher.py:33: UserWarning: In Matplotlib 3.3 individual lines on a stem plot will be added as a LineCollection instead of individual lines. This significantly improves the performance of a stem plot. To remove this warning and switch to the new behaviour, set the \"use_line_collection\" keyword argument to True.\n",
            "/usr/local/lib/python3.7/dist-packages/ipykernel_launcher.py:33: UserWarning: In Matplotlib 3.3 individual lines on a stem plot will be added as a LineCollection instead of individual lines. This significantly improves the performance of a stem plot. To remove this warning and switch to the new behaviour, set the \"use_line_collection\" keyword argument to True.\n",
            "/usr/local/lib/python3.7/dist-packages/ipykernel_launcher.py:33: UserWarning: In Matplotlib 3.3 individual lines on a stem plot will be added as a LineCollection instead of individual lines. This significantly improves the performance of a stem plot. To remove this warning and switch to the new behaviour, set the \"use_line_collection\" keyword argument to True.\n",
            "/usr/local/lib/python3.7/dist-packages/ipykernel_launcher.py:33: UserWarning: In Matplotlib 3.3 individual lines on a stem plot will be added as a LineCollection instead of individual lines. This significantly improves the performance of a stem plot. To remove this warning and switch to the new behaviour, set the \"use_line_collection\" keyword argument to True.\n",
            "/usr/local/lib/python3.7/dist-packages/ipykernel_launcher.py:33: UserWarning: In Matplotlib 3.3 individual lines on a stem plot will be added as a LineCollection instead of individual lines. This significantly improves the performance of a stem plot. To remove this warning and switch to the new behaviour, set the \"use_line_collection\" keyword argument to True.\n",
            "/usr/local/lib/python3.7/dist-packages/ipykernel_launcher.py:33: UserWarning: In Matplotlib 3.3 individual lines on a stem plot will be added as a LineCollection instead of individual lines. This significantly improves the performance of a stem plot. To remove this warning and switch to the new behaviour, set the \"use_line_collection\" keyword argument to True.\n",
            "/usr/local/lib/python3.7/dist-packages/ipykernel_launcher.py:33: UserWarning: In Matplotlib 3.3 individual lines on a stem plot will be added as a LineCollection instead of individual lines. This significantly improves the performance of a stem plot. To remove this warning and switch to the new behaviour, set the \"use_line_collection\" keyword argument to True.\n",
            "/usr/local/lib/python3.7/dist-packages/ipykernel_launcher.py:33: UserWarning: In Matplotlib 3.3 individual lines on a stem plot will be added as a LineCollection instead of individual lines. This significantly improves the performance of a stem plot. To remove this warning and switch to the new behaviour, set the \"use_line_collection\" keyword argument to True.\n",
            "/usr/local/lib/python3.7/dist-packages/ipykernel_launcher.py:33: UserWarning: In Matplotlib 3.3 individual lines on a stem plot will be added as a LineCollection instead of individual lines. This significantly improves the performance of a stem plot. To remove this warning and switch to the new behaviour, set the \"use_line_collection\" keyword argument to True.\n",
            "/usr/local/lib/python3.7/dist-packages/ipykernel_launcher.py:33: UserWarning: In Matplotlib 3.3 individual lines on a stem plot will be added as a LineCollection instead of individual lines. This significantly improves the performance of a stem plot. To remove this warning and switch to the new behaviour, set the \"use_line_collection\" keyword argument to True.\n"
          ],
          "name": "stderr"
        },
        {
          "output_type": "display_data",
          "data": {
            "image/png": "[encoded data removed]",
            "text/plain": [
              "<Figure size 1440x864 with 18 Axes>"
            ]
          },
          "metadata": {
            "tags": [],
            "needs_background": "light"
          }
        }
      ]
    },
    {
      "cell_type": "code",
      "metadata": {
        "colab": {
          "base_uri": "https://localhost:8080/",
          "height": 1000
        },
        "id": "aoJ-OIxZZXr8",
        "outputId": "9137560d-2ed7-4830-f11a-b7a6a30d03a8"
      },
      "source": [
        "test(probe, maxsuba)"
      ],
      "execution_count": 14,
      "outputs": [
        {
          "output_type": "stream",
          "text": [
            "testing maxsuba:   0%|          | 0/13 [00:00<?, ?it/s, t_size=2.1e+6]/usr/local/lib/python3.7/dist-packages/ipykernel_launcher.py:6: RuntimeWarning: Mean of empty slice.\n",
            "  \n",
            "/usr/local/lib/python3.7/dist-packages/numpy/core/_methods.py:170: RuntimeWarning: invalid value encountered in double_scalars\n",
            "  rcount = _count_reduce_items(arr, axis)\n",
            "testing maxsuba: 100%|██████████| 13/13 [01:30<00:00,  6.97s/it, t_size=8.59e+9]\n"
          ],
          "name": "stderr"
        },
        {
          "output_type": "stream",
          "text": [
            "{\n",
            "    \"pearson\": [\n",
            "        0.9862196699679077,\n",
            "        6.047212845585713e-10\n",
            "    ],\n",
            "    \"cv\": [\n",
            "        {\n",
            "            \"size\": 2,\n",
            "            \"cv\": 0.34093586349727584\n",
            "        },\n",
            "        {\n",
            "            \"size\": 4,\n",
            "            \"cv\": 0.34245173976417403\n",
            "        },\n",
            "        {\n",
            "            \"size\": 8,\n",
            "            \"cv\": 0.33960059508305657\n",
            "        },\n",
            "        {\n",
            "            \"size\": 16,\n",
            "            \"cv\": 0.26530537412084\n",
            "        },\n",
            "        {\n",
            "            \"size\": 32,\n",
            "            \"cv\": 0.3665239332126971\n",
            "        },\n",
            "        {\n",
            "            \"size\": 64,\n",
            "            \"cv\": 0.4345711640509949\n",
            "        },\n",
            "        {\n",
            "            \"size\": 128,\n",
            "            \"cv\": 0.44144975322187835\n",
            "        },\n",
            "        {\n",
            "            \"size\": 256,\n",
            "            \"cv\": 0.6516997569341767\n",
            "        },\n",
            "        {\n",
            "            \"size\": 512,\n",
            "            \"cv\": 0.23577288472828\n",
            "        },\n",
            "        {\n",
            "            \"size\": 1024,\n",
            "            \"cv\": 0.2857119718890304\n",
            "        },\n",
            "        {\n",
            "            \"size\": 2048,\n",
            "            \"cv\": 0.21610379552922548\n",
            "        },\n",
            "        {\n",
            "            \"size\": 4096,\n",
            "            \"cv\": 0.2418086304900883\n",
            "        },\n",
            "        {\n",
            "            \"size\": 8192,\n",
            "            \"cv\": 0.43868258878920413\n",
            "        }\n",
            "    ]\n",
            "}\n"
          ],
          "name": "stdout"
        },
        {
          "output_type": "stream",
          "text": [
            "/usr/local/lib/python3.7/dist-packages/ipykernel_launcher.py:33: UserWarning: In Matplotlib 3.3 individual lines on a stem plot will be added as a LineCollection instead of individual lines. This significantly improves the performance of a stem plot. To remove this warning and switch to the new behaviour, set the \"use_line_collection\" keyword argument to True.\n",
            "/usr/local/lib/python3.7/dist-packages/ipykernel_launcher.py:33: UserWarning: In Matplotlib 3.3 individual lines on a stem plot will be added as a LineCollection instead of individual lines. This significantly improves the performance of a stem plot. To remove this warning and switch to the new behaviour, set the \"use_line_collection\" keyword argument to True.\n",
            "/usr/local/lib/python3.7/dist-packages/ipykernel_launcher.py:33: UserWarning: In Matplotlib 3.3 individual lines on a stem plot will be added as a LineCollection instead of individual lines. This significantly improves the performance of a stem plot. To remove this warning and switch to the new behaviour, set the \"use_line_collection\" keyword argument to True.\n",
            "/usr/local/lib/python3.7/dist-packages/ipykernel_launcher.py:33: UserWarning: In Matplotlib 3.3 individual lines on a stem plot will be added as a LineCollection instead of individual lines. This significantly improves the performance of a stem plot. To remove this warning and switch to the new behaviour, set the \"use_line_collection\" keyword argument to True.\n",
            "/usr/local/lib/python3.7/dist-packages/ipykernel_launcher.py:33: UserWarning: In Matplotlib 3.3 individual lines on a stem plot will be added as a LineCollection instead of individual lines. This significantly improves the performance of a stem plot. To remove this warning and switch to the new behaviour, set the \"use_line_collection\" keyword argument to True.\n",
            "/usr/local/lib/python3.7/dist-packages/ipykernel_launcher.py:33: UserWarning: In Matplotlib 3.3 individual lines on a stem plot will be added as a LineCollection instead of individual lines. This significantly improves the performance of a stem plot. To remove this warning and switch to the new behaviour, set the \"use_line_collection\" keyword argument to True.\n",
            "/usr/local/lib/python3.7/dist-packages/ipykernel_launcher.py:33: UserWarning: In Matplotlib 3.3 individual lines on a stem plot will be added as a LineCollection instead of individual lines. This significantly improves the performance of a stem plot. To remove this warning and switch to the new behaviour, set the \"use_line_collection\" keyword argument to True.\n",
            "/usr/local/lib/python3.7/dist-packages/ipykernel_launcher.py:33: UserWarning: In Matplotlib 3.3 individual lines on a stem plot will be added as a LineCollection instead of individual lines. This significantly improves the performance of a stem plot. To remove this warning and switch to the new behaviour, set the \"use_line_collection\" keyword argument to True.\n",
            "/usr/local/lib/python3.7/dist-packages/ipykernel_launcher.py:33: UserWarning: In Matplotlib 3.3 individual lines on a stem plot will be added as a LineCollection instead of individual lines. This significantly improves the performance of a stem plot. To remove this warning and switch to the new behaviour, set the \"use_line_collection\" keyword argument to True.\n",
            "/usr/local/lib/python3.7/dist-packages/ipykernel_launcher.py:33: UserWarning: In Matplotlib 3.3 individual lines on a stem plot will be added as a LineCollection instead of individual lines. This significantly improves the performance of a stem plot. To remove this warning and switch to the new behaviour, set the \"use_line_collection\" keyword argument to True.\n",
            "/usr/local/lib/python3.7/dist-packages/ipykernel_launcher.py:33: UserWarning: In Matplotlib 3.3 individual lines on a stem plot will be added as a LineCollection instead of individual lines. This significantly improves the performance of a stem plot. To remove this warning and switch to the new behaviour, set the \"use_line_collection\" keyword argument to True.\n",
            "/usr/local/lib/python3.7/dist-packages/ipykernel_launcher.py:33: UserWarning: In Matplotlib 3.3 individual lines on a stem plot will be added as a LineCollection instead of individual lines. This significantly improves the performance of a stem plot. To remove this warning and switch to the new behaviour, set the \"use_line_collection\" keyword argument to True.\n",
            "/usr/local/lib/python3.7/dist-packages/ipykernel_launcher.py:33: UserWarning: In Matplotlib 3.3 individual lines on a stem plot will be added as a LineCollection instead of individual lines. This significantly improves the performance of a stem plot. To remove this warning and switch to the new behaviour, set the \"use_line_collection\" keyword argument to True.\n"
          ],
          "name": "stderr"
        },
        {
          "output_type": "display_data",
          "data": {
            "image/png": "[encoded data removed]",
            "text/plain": [
              "<Figure size 1440x864 with 18 Axes>"
            ]
          },
          "metadata": {
            "tags": [],
            "needs_background": "light"
          }
        }
      ]
    },
    {
      "cell_type": "markdown",
      "metadata": {
        "id": "FtkdvHHRB9Kz"
      },
      "source": [
        "# Preprocessor"
      ]
    },
    {
      "cell_type": "code",
      "metadata": {
        "id": "hamNVFrssLte"
      },
      "source": [
        "class Prerocessor:\n",
        "    def __traverse__(self, parsed, keys):\n",
        "        if len(keys)>1:\n",
        "            return self.__traverse__(parsed[keys[0]], keys[1:])\n",
        "        return parsed[keys[0]]\n",
        "    def __json__(self, string):\n",
        "        parsed = ujson.loads(string)\n",
        "        obj = {\n",
        "            key: self.__traverse__(parsed, self.keygroup[key])\n",
        "            for key in self.keygroup.keys()\n",
        "        }\n",
        "        return obj\n",
        "    def __df__(self, batch):\n",
        "        json = map(self.__json__, batch)\n",
        "        df   = pd.DataFrame.from_records(json, \n",
        "                                         columns=[\"target\",\n",
        "                                                  \"disease\",\n",
        "                                                  \"score\"]\n",
        "        )\n",
        "        return df\n",
        "    def __init__(self, \n",
        "                 probe,\n",
        "                 keygroup):\n",
        "        self.keygroup   = keygroup\n",
        "        n = minsuba(probe.chunk_sizes, int(os.statvfs('/').f_bsize*1024*8))\n",
        "        with tqdm(desc=f\"Feature Extraction, n={n}\") as tqdmo:\n",
        "            with GzipFile(f\"{probe.path}/{probe.filename}.{probe.extension}\") as f:\n",
        "                batches = partition_all(n, f)\n",
        "                for batch in batches:\n",
        "                    df    = self.__df__(batch)\n",
        "                    df.to_hdf(\n",
        "                        f\"{probe.path}/{probe.filename}.hdf\",\n",
        "                        key='features',\n",
        "                        mode='a',\n",
        "                        format='table',\n",
        "                        append=True\n",
        "                    )\n",
        "                    tqdmo.update(len(df.index))\n",
        "        self.df = pd.read_hdf(\n",
        "                f\"{probe.path}/{probe.filename}.hdf\",\n",
        "                key='features'\n",
        "            )\n"
      ],
      "execution_count": 15,
      "outputs": []
    },
    {
      "cell_type": "code",
      "metadata": {
        "id": "Q-Geaf4SFclQ",
        "colab": {
          "base_uri": "https://localhost:8080/"
        },
        "outputId": "192fc52a-0c6e-49c6-fc8c-138254f5cdd1"
      },
      "source": [
        "%timeit\n",
        "data = Prerocessor(\n",
        "    probe,\n",
        "    {\n",
        "        \"target\" : [\"target\", \"id\"],\n",
        "        \"disease\": [\"disease\", \"id\"],\n",
        "        \"score\":   [\"scores\", \"association_score\"]\n",
        "    }\n",
        ")"
      ],
      "execution_count": 16,
      "outputs": [
        {
          "output_type": "stream",
          "text": [
            "Feature Extraction, n=7190: 5784597it [06:24, 15038.65it/s]\n"
          ],
          "name": "stderr"
        }
      ]
    },
    {
      "cell_type": "code",
      "metadata": {
        "id": "FdoVg_BxmmLm",
        "colab": {
          "base_uri": "https://localhost:8080/"
        },
        "outputId": "8b284dd0-03e5-471e-ccbd-1aa242d6b9dd"
      },
      "source": [
        "!rm -rf /root/workspace/*.hdf \n",
        "!ls /root/workspace"
      ],
      "execution_count": 17,
      "outputs": [
        {
          "output_type": "stream",
          "text": [
            "17.12_evidence_data.json.gz\n"
          ],
          "name": "stdout"
        }
      ]
    },
    {
      "cell_type": "code",
      "metadata": {
        "id": "Wokwldht8N3f"
      },
      "source": [
        "class CycleEnumeration:\n",
        "    def hash(self):\n",
        "        with tqdm(desc=f\"Hashing\") as tqdmo:\n",
        "            def setter(x):\n",
        "                tqdmo.update(1)\n",
        "                return set(x.to_numpy())\n",
        "            self.table = self.df.groupby('target')['disease'].apply(setter).to_numpy()\n",
        "    def map(self):\n",
        "        self.hash()\n",
        "        combinations = itertools.combinations(range(self.table.shape[0]), 2)\n",
        "        nck          = int(ncr(self.table.shape[0], 2))\n",
        "        base         = int(nck/os.cpu_count())\n",
        "        self.chunks  = []\n",
        "        cc           = 0\n",
        "        partition    = 0\n",
        "        with tqdm(desc=f\"Mapping\") as tqdmo:\n",
        "            for successive in range(base, nck, base):\n",
        "                self.chunks.append(\n",
        "                                {\n",
        "                                    \"num\": cc,\n",
        "                                    \"len\": base,\n",
        "                                    \"val\": itertools.islice(\n",
        "                                                combinations,\n",
        "                                                partition,\n",
        "                                                successive,\n",
        "                                                1\n",
        "                                            ) \n",
        "                                }\n",
        "                            )\n",
        "                partition  = successive\n",
        "                cc        += 1\n",
        "                tqdmo.update(base)\n",
        "            if successive < nck:\n",
        "                self.chunks.append(\n",
        "                                {\n",
        "                                    \"num\": cc,\n",
        "                                    \"len\": nck-successive,\n",
        "                                    \"val\": itertools.islice(\n",
        "                                                combinations,\n",
        "                                                successive,\n",
        "                                                nck,\n",
        "                                                1\n",
        "                                            ) \n",
        "                                }\n",
        "                            )\n",
        "                tqdmo.update(base)\n",
        "    def worker(self, chunk):\n",
        "        local = 0\n",
        "        num = chunk[\"num\"]\n",
        "        with tqdm(\n",
        "            desc=f'Reducing - pool #{num}', \n",
        "            total=chunk['len'], \n",
        "            leave=True, \n",
        "            file=sys.stdout, position=0\n",
        "        ) as tqdmo:\n",
        "            for combination in chunk['val']:\n",
        "                local += len(self.table[combination[0]] & self.table[combination[1]]) >= 2\n",
        "                tqdmo.update(1)\n",
        "        return local\n",
        "    def reduce(self):\n",
        "        with ProcessPoolExecutor() as executor:\n",
        "            running_tasks = executor.map(self.worker, self.chunks)\n",
        "            for running_task in running_tasks:\n",
        "                self.counter += running_task\n",
        "    def __init__(self, df):\n",
        "        self.counter = 0\n",
        "        self.df = df\n",
        "        self.map()\n",
        "        self.reduce()\n",
        "        print(self.counter)"
      ],
      "execution_count": 18,
      "outputs": []
    },
    {
      "cell_type": "code",
      "metadata": {
        "id": "ynBqeV_EDv9D",
        "colab": {
          "base_uri": "https://localhost:8080/"
        },
        "outputId": "b68de54c-6bbc-4b07-b949-fb1106970871"
      },
      "source": [
        "CycleEnumeration(data.df)"
      ],
      "execution_count": 19,
      "outputs": [
        {
          "output_type": "stream",
          "text": [
            "Hashing: 33109it [00:06, 5290.45it/s]\n",
            "Mapping: 548086386it [00:00, 2657619562017.74it/s]\n"
          ],
          "name": "stderr"
        },
        {
          "output_type": "stream",
          "text": [
            "Reducing - pool #1: 100%|██████████| 274043193/274043193 [09:31<00:00, 479110.87it/s]\n",
            "Reducing - pool #0: 100%|██████████| 274043193/274043193 [12:31<00:00, 364484.30it/s]\n",
            "121114622\n"
          ],
          "name": "stdout"
        },
        {
          "output_type": "execute_result",
          "data": {
            "text/plain": [
              "<__main__.CycleEnumeration at 0x7f67a757eb10>"
            ]
          },
          "metadata": {
            "tags": []
          },
          "execution_count": 19
        }
      ]
    },
    {
      "cell_type": "code",
      "metadata": {
        "id": "kxhH7j0WJZ6k"
      },
      "source": [
        "class CycleEnumeration2:\n",
        "    def hash(self):\n",
        "        with tqdm(desc=f\"Hashing\") as tqdmo:\n",
        "            def setter(x):\n",
        "                tqdmo.update(1)\n",
        "                return set(x.to_numpy())\n",
        "            self.table = self.df.groupby('target')['disease'].apply(setter).to_numpy()\n",
        "    def map(self):\n",
        "        self.hash()\n",
        "        self.combinations = itertools.combinations(range(self.table.shape[0]), 2)\n",
        "        self.nck          = int(ncr(self.table.shape[0], 2))\n",
        "    def reduce(self):\n",
        "        with tqdm(\n",
        "            desc=f\"Reducing\", \n",
        "            iterable=range(self.nck)\n",
        "        ) as tqdmo:\n",
        "            for combination in self.combinations:\n",
        "                self.counter += len(self.table[combination[0]] & self.table[combination[1]]) >= 2\n",
        "                tqdmo.update(1)\n",
        "    def __init__(self, df):\n",
        "        self.counter = 0\n",
        "        self.df = df\n",
        "        self.map()\n",
        "        self.reduce()\n",
        "        print(self.counter)"
      ],
      "execution_count": 20,
      "outputs": []
    },
    {
      "cell_type": "code",
      "metadata": {
        "id": "yDOFcvqZKaDY",
        "colab": {
          "base_uri": "https://localhost:8080/"
        },
        "outputId": "d4eaad9f-4273-423b-a483-120ee379acab"
      },
      "source": [
        "CycleEnumeration2(data.df)"
      ],
      "execution_count": 21,
      "outputs": [
        {
          "output_type": "stream",
          "text": [
            "Hashing: 33109it [00:05, 5531.55it/s]\n",
            "Reducing: 100%|██████████| 548086386/548086386 [15:20<00:00, 595688.11it/s]"
          ],
          "name": "stderr"
        },
        {
          "output_type": "stream",
          "text": [
            "121114622\n"
          ],
          "name": "stdout"
        },
        {
          "output_type": "stream",
          "text": [
            "\n"
          ],
          "name": "stderr"
        },
        {
          "output_type": "execute_result",
          "data": {
            "text/plain": [
              "<__main__.CycleEnumeration2 at 0x7f67a1170950>"
            ]
          },
          "metadata": {
            "tags": []
          },
          "execution_count": 21
        }
      ]
    }
  ]
}