{
  "nbformat": 4,
  "nbformat_minor": 0,
  "metadata": {
    "colab": {
      "name": "weirdtargets2020.ipynb",
      "provenance": [],
      "collapsed_sections": [],
      "toc_visible": true,
      "authorship_tag": "ABX9TyO4I01lcanRbI6ymB421tq+",
      "include_colab_link": true
    },
    "kernelspec": {
      "name": "python3",
      "display_name": "Python 3"
    }
  },
  "cells": [
    {
      "cell_type": "markdown",
      "metadata": {
        "id": "view-in-github",
        "colab_type": "text"
      },
      "source": [
        "<a href=\"https://colab.research.google.com/github/AlyShmahell/WeirdTargets/blob/master/weirdtargets2020.ipynb\" target=\"_parent\"><img src=\"https://colab.research.google.com/assets/colab-badge.svg\" alt=\"Open In Colab\"/></a>"
      ]
    },
    {
      "cell_type": "markdown",
      "metadata": {
        "id": "m7-LqJsEsxIS"
      },
      "source": [
        "# Imports"
      ]
    },
    {
      "cell_type": "code",
      "metadata": {
        "colab": {
          "base_uri": "https://localhost:8080/"
        },
        "id": "oZT_SJpk4fwB",
        "outputId": "38c89dbe-5bb5-456b-f8fa-63f9f90e133d"
      },
      "source": [
        "! pip install ujson"
      ],
      "execution_count": null,
      "outputs": [
        {
          "output_type": "stream",
          "text": [
            "Requirement already satisfied: ujson in /usr/local/lib/python3.6/dist-packages (4.0.1)\n"
          ],
          "name": "stdout"
        }
      ]
    },
    {
      "cell_type": "code",
      "metadata": {
        "id": "KvXS15KXsBCO"
      },
      "source": [
        "import os\n",
        "import gc\n",
        "import sys\n",
        "import ujson\n",
        "import psutil\n",
        "import requests\n",
        "import numpy     as     np\n",
        "import pandas    as     pd\n",
        "import operator  as     op\n",
        "from   copy      import copy\n",
        "from   tqdm      import tqdm\n",
        "from   functools import reduce\n",
        "from   gzip      import GzipFile\n",
        "from   toolz     import partition_all\n",
        "from   itertools import islice\n",
        "from   pathlib   import Path\n",
        "from   concurrent.futures import ProcessPoolExecutor, ThreadPoolExecuter"
      ],
      "execution_count": null,
      "outputs": []
    },
    {
      "cell_type": "code",
      "metadata": {
        "colab": {
          "base_uri": "https://localhost:8080/"
        },
        "id": "WGwWZN2rk9Je",
        "outputId": "4bff8308-7ae7-43c6-e8f6-1b4b2ff943c8"
      },
      "source": [
        "a = partition_all(2, partition_all(2, range(10)))\n",
        "b = islice(a, 2, 4)\n",
        "c = islice(a, 4, 6)\n",
        "print([*a], [*b], [*c])"
      ],
      "execution_count": null,
      "outputs": [
        {
          "output_type": "stream",
          "text": [
            "[((0, 1), (2, 3)), ((4, 5), (6, 7)), ((8, 9),)] [] []\n"
          ],
          "name": "stdout"
        }
      ]
    },
    {
      "cell_type": "code",
      "metadata": {
        "id": "-iouhzwr8a8w"
      },
      "source": [
        "class System:\n",
        "    memory = int(np.floor(psutil.virtual_memory()[1]/(1024**3))*int(2e+4))\n",
        "    cpu    = os.cpu_count()\n",
        "    @classmethod\n",
        "    def rmtree(root):\n",
        "        for p in root.iterdir():\n",
        "            if p.is_dir():\n",
        "                rmtree(p)\n",
        "            else:\n",
        "                p.unlink()\n",
        "        root.rmdir()"
      ],
      "execution_count": null,
      "outputs": []
    },
    {
      "cell_type": "code",
      "metadata": {
        "colab": {
          "base_uri": "https://localhost:8080/"
        },
        "id": "OL43nLvQZ9NQ",
        "outputId": "1121fd7e-181d-4c7c-f3f4-4802436b0d11"
      },
      "source": [
        "s = System()\n",
        "print(s)"
      ],
      "execution_count": null,
      "outputs": [
        {
          "output_type": "stream",
          "text": [
            "<__main__.System object at 0x7f1611926b00>\n"
          ],
          "name": "stdout"
        }
      ]
    },
    {
      "cell_type": "code",
      "metadata": {
        "colab": {
          "base_uri": "https://localhost:8080/"
        },
        "id": "vBj6Pzo6T5Pg",
        "outputId": "3e122632-709f-4983-8527-c2151cfede04"
      },
      "source": [
        "System.memory"
      ],
      "execution_count": null,
      "outputs": [
        {
          "output_type": "execute_result",
          "data": {
            "text/plain": [
              "220000"
            ]
          },
          "metadata": {
            "tags": []
          },
          "execution_count": 6
        }
      ]
    },
    {
      "cell_type": "markdown",
      "metadata": {
        "id": "SPh4UBdkspkV"
      },
      "source": [
        "# nCr"
      ]
    },
    {
      "cell_type": "code",
      "metadata": {
        "id": "-NST-Tgdsq3Y"
      },
      "source": [
        "def ncr(n, r):\n",
        "    r     = min(r, n-r)\n",
        "    numer = reduce(op.mul, range(n, n-r, -1), 1)\n",
        "    denom = reduce(op.mul, range(1, r+1), 1)\n",
        "    return  numer / denom"
      ],
      "execution_count": null,
      "outputs": []
    },
    {
      "cell_type": "markdown",
      "metadata": {
        "id": "TqaXhyOFsuZV"
      },
      "source": [
        "# Downloader"
      ]
    },
    {
      "cell_type": "code",
      "metadata": {
        "id": "JIT5D5YksvrY"
      },
      "source": [
        "def downloader(url):\n",
        "    def func(r, path, filename, total_size, block_size):\n",
        "        t          = tqdm(\n",
        "            desc       = f\"downloading {filename}\",\n",
        "            total      = total_size, \n",
        "            unit       = 'iB', \n",
        "            unit_scale = True\n",
        "        )\n",
        "        with open(path/filename, 'wb') as f:\n",
        "            for data in r.iter_content(block_size):\n",
        "                t.update(len(data))\n",
        "                f.write(data)\n",
        "        t.close()\n",
        "        try:\n",
        "            assert not(total_size != 0 and t.n != total_size)\n",
        "        except:\n",
        "            sys.exit(f\"downloaded {t.n}/{total_size}\", flush=True)\n",
        "    r          = requests.get(url, stream=True)\n",
        "    total_size = int(r.headers.get('content-length', 0))\n",
        "    block_size = 1024**2\n",
        "    filename   = url.split('/')[-1]\n",
        "    path       = Path(Path.home())/Path('workspace')\n",
        "    path.mkdir(parents=True, exist_ok=True)\n",
        "    try:\n",
        "        assert Path(path/filename).stat().st_size == total_size\n",
        "        print(f\"{filename} is already downloaded\", flush=True)\n",
        "    except:\n",
        "        func(r, path, filename, total_size, block_size)\n",
        "    filename    = filename.split('.')\n",
        "    (filename, \n",
        "     extension) = \".\".join(filename[:-1]), filename[-1]\n",
        "    return path, filename, extension"
      ],
      "execution_count": null,
      "outputs": []
    },
    {
      "cell_type": "code",
      "metadata": {
        "colab": {
          "base_uri": "https://localhost:8080/"
        },
        "id": "w9VMCPRShFHQ",
        "outputId": "577abf35-b717-482c-e7e5-e7680a874f45"
      },
      "source": [
        "df = pd.DataFrame({\n",
        "    'a': [1,2,3],\n",
        "    'b': [4,5,6]\n",
        "})\n",
        "len(df.index)"
      ],
      "execution_count": null,
      "outputs": [
        {
          "output_type": "execute_result",
          "data": {
            "text/plain": [
              "3"
            ]
          },
          "metadata": {
            "tags": []
          },
          "execution_count": 9
        }
      ]
    },
    {
      "cell_type": "code",
      "metadata": {
        "id": "hamNVFrssLte"
      },
      "source": [
        "class Prerocessor:\n",
        "    def __traverse__(self, parsed, keys):\n",
        "        if len(keys)>1:\n",
        "            return self.__traverse__(parsed[keys[0]], keys[1:])\n",
        "        return parsed[keys[0]]\n",
        "    def __json__(self, string):\n",
        "        parsed = ujson.loads(string)\n",
        "        obj = {\n",
        "            key: self.__traverse__(parsed, self.keygroup[key])\n",
        "            for key in self.keygroup.keys()\n",
        "        }\n",
        "        return obj\n",
        "    def __df__(self, batch):\n",
        "        json = map(lambda string: self.__json__(string), batch)\n",
        "        df   = pd.DataFrame.from_records(json, \n",
        "                                         columns=[\"target\",\n",
        "                                                  \"disease\",\n",
        "                                                  \"score\"]\n",
        "        )\n",
        "        return df\n",
        "    def __init__(self, url, keygroup):\n",
        "        (path, \n",
        "         filename, \n",
        "         extension)   = downloader(url)\n",
        "        self.keygroup = keygroup\n",
        "        with tqdm(desc=f\"Feature Extraction\") as tqdmo:\n",
        "            with GzipFile(f\"{path}/{filename}.{extension}\") as f:\n",
        "                batches = partition_all(System.memory, f)\n",
        "                for batch in batches:\n",
        "                    df = self.__df__(batch)\n",
        "                    df.to_hdf(\n",
        "                        f\"{path}/{filename}.hdf\",\n",
        "                        key='features',\n",
        "                        mode='a',\n",
        "                        format='table',\n",
        "                        append=True\n",
        "                    )\n",
        "                    tqdmo.update(len(df.index))\n",
        "        self.df = pd.read_hdf(\n",
        "                f\"{path}/{filename}.hdf\",\n",
        "                key='features'\n",
        "            )\n",
        "        print(self.df.head(5))\n"
      ],
      "execution_count": null,
      "outputs": []
    },
    {
      "cell_type": "code",
      "metadata": {
        "colab": {
          "base_uri": "https://localhost:8080/"
        },
        "id": "Q-Geaf4SFclQ",
        "outputId": "a0244838-3a20-4b4a-d60a-549aaaad24ab"
      },
      "source": [
        "%timeit\n",
        "Prerocessor(\n",
        "    'https://storage.googleapis.com/open-targets-data-releases/17.12/17.12_evidence_data.json.gz',\n",
        "    {\n",
        "        \"target\" : [\"target\", \"id\"],\n",
        "        \"disease\": [\"disease\", \"id\"],\n",
        "        \"score\":   [\"scores\", \"association_score\"]\n",
        "    }\n",
        ")"
      ],
      "execution_count": null,
      "outputs": [
        {
          "output_type": "stream",
          "text": [
            "17.12_evidence_data.json.gz is already downloaded\n"
          ],
          "name": "stdout"
        },
        {
          "output_type": "stream",
          "text": [
            "Feature Extraction: 5784597it [07:25, 12996.72it/s]\n"
          ],
          "name": "stderr"
        },
        {
          "output_type": "stream",
          "text": [
            "            target         disease  score\n",
            "0  ENSG00000140859     EFO_0000519    1.0\n",
            "1  ENSG00000197170     EFO_0000708    1.0\n",
            "2  ENSG00000198650  Orphanet_28378    1.0\n",
            "3  ENSG00000102468     EFO_0003761    1.0\n",
            "4  ENSG00000043591     EFO_0000612    1.0\n"
          ],
          "name": "stdout"
        },
        {
          "output_type": "execute_result",
          "data": {
            "text/plain": [
              "<__main__.Prerocessor at 0x7f161194f390>"
            ]
          },
          "metadata": {
            "tags": []
          },
          "execution_count": 14
        }
      ]
    },
    {
      "cell_type": "code",
      "metadata": {
        "colab": {
          "base_uri": "https://localhost:8080/"
        },
        "id": "7IehnJbiTjTc",
        "outputId": "24b99adc-ec8c-4800-b0e7-2545d528b6e8"
      },
      "source": [
        "!ls /root/workspace -al"
      ],
      "execution_count": null,
      "outputs": [
        {
          "output_type": "stream",
          "text": [
            "total 5561440\n",
            "drwxr-xr-x 2 root root       4096 Dec  7 06:00 .\n",
            "drwx------ 1 root root       4096 Dec  7 03:38 ..\n",
            "-rw-r--r-- 1 root root 5425463947 Dec  7 03:39 17.12_evidence_data.json.gz\n",
            "-rw-r--r-- 1 root root  269427103 Dec  7 06:07 17.12_evidence_data.json.hdf\n"
          ],
          "name": "stdout"
        }
      ]
    },
    {
      "cell_type": "code",
      "metadata": {
        "colab": {
          "base_uri": "https://localhost:8080/"
        },
        "id": "8SrZQDUFTu9W",
        "outputId": "640a92e7-4170-4663-97a0-84a3629fcd8e"
      },
      "source": [
        "!rm -rf /root/workspace/*.hdf\n",
        "!ls /root/workspace -al"
      ],
      "execution_count": null,
      "outputs": [
        {
          "output_type": "stream",
          "text": [
            "total 5298324\n",
            "drwxr-xr-x 2 root root       4096 Dec  7 06:07 .\n",
            "drwx------ 1 root root       4096 Dec  7 03:38 ..\n",
            "-rw-r--r-- 1 root root 5425463947 Dec  7 03:39 17.12_evidence_data.json.gz\n"
          ],
          "name": "stdout"
        }
      ]
    }
  ]
}